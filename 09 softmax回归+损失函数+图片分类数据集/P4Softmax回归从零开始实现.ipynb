{
 "cells": [
  {
   "cell_type": "code",
   "execution_count": 64,
   "id": "ef4ee44b",
   "metadata": {},
   "outputs": [],
   "source": [
    "import torch\n",
    "from IPython import display\n",
    "from d2l import torch as d2l"
   ]
  },
  {
   "cell_type": "code",
   "execution_count": 65,
   "id": "ba17b0cc",
   "metadata": {},
   "outputs": [],
   "source": [
    "batch_size = 256\n",
    "train_iter, test_iter = d2l.load_data_fashion_mnist(batch_size)"
   ]
  },
  {
   "cell_type": "code",
   "execution_count": 66,
   "id": "1c247a81",
   "metadata": {},
   "outputs": [
    {
     "data": {
      "text/plain": [
       "torch.Size([10])"
      ]
     },
     "execution_count": 66,
     "metadata": {},
     "output_type": "execute_result"
    }
   ],
   "source": [
    "num_inputs = 784\n",
    "num_outputs = 10\n",
    "W = torch.normal(0, 0.01, size=(num_inputs, num_outputs), requires_grad=True)\n",
    "b = torch.zeros(num_outputs, requires_grad=True)\n",
    "W.shape[0]\n",
    "b.shape"
   ]
  },
  {
   "cell_type": "code",
   "execution_count": 67,
   "id": "8ed075c6",
   "metadata": {},
   "outputs": [],
   "source": [
    "def softmax(X):\n",
    "    X_exp = torch.exp(X)\n",
    "    partition = X_exp.sum(1, keepdim=True)\n",
    "    return X_exp / partition #这里运用了广播机制"
   ]
  },
  {
   "cell_type": "code",
   "execution_count": 68,
   "id": "4ffe0fe3",
   "metadata": {},
   "outputs": [
    {
     "data": {
      "text/plain": [
       "(tensor([[0.1811, 0.2175, 0.1502, 0.1226, 0.3285],\n",
       "         [0.4460, 0.2711, 0.1540, 0.1010, 0.0279]]),\n",
       " tensor([[1.],\n",
       "         [1.]]))"
      ]
     },
     "execution_count": 68,
     "metadata": {},
     "output_type": "execute_result"
    }
   ],
   "source": [
    "X = torch.normal(0, 1, (2,5))\n",
    "X_prob = softmax(X)\n",
    "X_prob,X_prob.sum(1, keepdim=True)"
   ]
  },
  {
   "cell_type": "code",
   "execution_count": 69,
   "id": "ac42690d",
   "metadata": {},
   "outputs": [],
   "source": [
    "#实现softmax回归模型\n",
    "def net(x):\n",
    "    return softmax(torch.matmul(X.reshape((-1, X.shape[0])), w)+b)"
   ]
  },
  {
   "cell_type": "markdown",
   "id": "5642ae58",
   "metadata": {},
   "source": [
    "创建一个数据y_hat,其中包含2个样本在3个类别的预测概率，使用y作为y_hat中概率的索引"
   ]
  },
  {
   "cell_type": "code",
   "execution_count": 70,
   "id": "6a9ff163",
   "metadata": {},
   "outputs": [
    {
     "data": {
      "text/plain": [
       "tensor([0.1000, 0.5000])"
      ]
     },
     "execution_count": 70,
     "metadata": {},
     "output_type": "execute_result"
    }
   ],
   "source": [
    "#对待第0个样本，看它预测为第0类别的概率；对待第1个样本，看它预测为第2个类别的概率\n",
    "y = torch.tensor([0,2])\n",
    "y_hat = torch.tensor([[0.1, 0.3, 0.6],[0.3, 0.2, 0.5]])\n",
    "y_hat[[0,1],y]#意思是指在y_hat[0,0]、y_hat[1,2]处取值"
   ]
  },
  {
   "cell_type": "code",
   "execution_count": 71,
   "id": "b8825d66",
   "metadata": {},
   "outputs": [
    {
     "data": {
      "text/plain": [
       "tensor([2.3026, 0.6931])"
      ]
     },
     "execution_count": 71,
     "metadata": {},
     "output_type": "execute_result"
    }
   ],
   "source": [
    "#定义交叉熵损失函数\n",
    "def cross_entropy(y_hat, y):\n",
    "    '''\n",
    "    即索引y轴，在x轴上根据labels抽取预测值\n",
    "    '''\n",
    "    return -torch.log(y_hat[range(len(y_hat)), y])\n",
    "cross_entropy(y_hat, y)"
   ]
  },
  {
   "cell_type": "code",
   "execution_count": 72,
   "id": "72c1788b",
   "metadata": {},
   "outputs": [
    {
     "data": {
      "text/plain": [
       "0.5"
      ]
     },
     "execution_count": 72,
     "metadata": {},
     "output_type": "execute_result"
    }
   ],
   "source": [
    "#将预测类别与真实y元素进行比较\n",
    "def accuracy(y_hat, y):\n",
    "    '''计算预测正确的数量'''\n",
    "    if len(y_hat.shape)>1 and y_hat.shape[1]>1:\n",
    "        y_hat = y_hat.argmax(axis=1)#axis=1，沿着行方向行进，找出在每一行中最大概率对应的下标\n",
    "    cmp = y_hat.type(y.dtype) == y\n",
    "    return float(cmp.type(y.dtype).sum())\n",
    "\n",
    "accuracy(y_hat,y) /len(y)"
   ]
  },
  {
   "cell_type": "code",
   "execution_count": 73,
   "id": "7d160826",
   "metadata": {},
   "outputs": [],
   "source": [
    "#可以评估在任意模型net的准确率\n",
    "def evaluate_accuracy(net, data_iter):\n",
    "    if isinstance(net, torch.nn.Module):\n",
    "        net.eval()\n",
    "    metric = Accumulator(2)\n",
    "    for X,y in data_iter:\n",
    "        metric.add(accuracy(net(X), y), y.numel())\n",
    "    return metric[0] / metric[1]"
   ]
  },
  {
   "cell_type": "code",
   "execution_count": null,
   "id": "a1715931",
   "metadata": {},
   "outputs": [],
   "source": []
  },
  {
   "cell_type": "code",
   "execution_count": null,
   "id": "85b44c23",
   "metadata": {},
   "outputs": [],
   "source": []
  },
  {
   "cell_type": "code",
   "execution_count": null,
   "id": "a002c6bc",
   "metadata": {},
   "outputs": [],
   "source": []
  },
  {
   "cell_type": "code",
   "execution_count": null,
   "id": "48addab5",
   "metadata": {},
   "outputs": [],
   "source": []
  },
  {
   "cell_type": "code",
   "execution_count": null,
   "id": "7ab5e122",
   "metadata": {},
   "outputs": [],
   "source": []
  }
 ],
 "metadata": {
  "kernelspec": {
   "display_name": "Python 3",
   "language": "python",
   "name": "python3"
  },
  "language_info": {
   "codemirror_mode": {
    "name": "ipython",
    "version": 3
   },
   "file_extension": ".py",
   "mimetype": "text/x-python",
   "name": "python",
   "nbconvert_exporter": "python",
   "pygments_lexer": "ipython3",
   "version": "3.8.8"
  }
 },
 "nbformat": 4,
 "nbformat_minor": 5
}
